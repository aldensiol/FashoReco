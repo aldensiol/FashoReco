{
 "cells": [
  {
   "cell_type": "code",
   "execution_count": 138,
   "metadata": {},
   "outputs": [],
   "source": [
    "#%pip install gensim"
   ]
  },
  {
   "cell_type": "code",
   "execution_count": 139,
   "metadata": {},
   "outputs": [],
   "source": [
    "import pandas as pd\n",
    "import numpy as np\n",
    "import os\n",
    "from gensim.models import Word2Vec"
   ]
  },
  {
   "cell_type": "markdown",
   "metadata": {},
   "source": [
    "# Word Embeddings"
   ]
  },
  {
   "cell_type": "code",
   "execution_count": 140,
   "metadata": {},
   "outputs": [],
   "source": [
    "df_i = pd.read_pickle('data/cleaned_df_i.pkl')\n",
    "df_c_train = pd.read_pickle('data/df_c_train.pkl')\n",
    "df_t_train = pd.read_pickle('data/df_t_train.pkl')\n",
    "df_c_val = pd.read_pickle('data/df_c_val.pkl')\n",
    "df_t_val = pd.read_pickle('data/df_t_val.pkl')\n",
    "df_c_test = pd.read_pickle('data/df_c_test.pkl')\n",
    "df_t_test = pd.read_pickle('data/df_t_test.pkl')"
   ]
  },
  {
   "cell_type": "code",
   "execution_count": 141,
   "metadata": {},
   "outputs": [],
   "source": [
    "df_i['structured_desc'] = df_i[['prod_name', 'product_type_name', 'product_group_name', 'perceived_colour_value_name', 'colour_group_name']].apply(lambda x: ', '.join(x), axis=1)"
   ]
  },
  {
   "cell_type": "code",
   "execution_count": 142,
   "metadata": {},
   "outputs": [],
   "source": [
    "tokenized_descriptions = df_i['structured_desc'].apply(lambda x: x.split())\n",
    "embedding_dim = 100\n",
    "word2vec_model = Word2Vec(sentences=tokenized_descriptions, vector_size=embedding_dim, window=3, min_count=1, workers=4)\n",
    "\n",
    "def generate_item_embedding(description, model):\n",
    "    word_vectors = [model.wv[word] for word in description if word in model.wv]\n",
    "    if word_vectors:\n",
    "        return np.mean(word_vectors, axis=0)\n",
    "    else:\n",
    "        return np.zeros(embedding_dim)\n",
    "df_i['embedding'] = tokenized_descriptions.apply(lambda x: generate_item_embedding(x, word2vec_model))"
   ]
  },
  {
   "cell_type": "code",
   "execution_count": 143,
   "metadata": {},
   "outputs": [
    {
     "data": {
      "text/html": [
       "<div>\n",
       "<style scoped>\n",
       "    .dataframe tbody tr th:only-of-type {\n",
       "        vertical-align: middle;\n",
       "    }\n",
       "\n",
       "    .dataframe tbody tr th {\n",
       "        vertical-align: top;\n",
       "    }\n",
       "\n",
       "    .dataframe thead th {\n",
       "        text-align: right;\n",
       "    }\n",
       "</style>\n",
       "<table border=\"1\" class=\"dataframe\">\n",
       "  <thead>\n",
       "    <tr style=\"text-align: right;\">\n",
       "      <th></th>\n",
       "      <th>article_id</th>\n",
       "      <th>prod_name</th>\n",
       "      <th>product_type_no</th>\n",
       "      <th>product_type_name</th>\n",
       "      <th>product_group_name</th>\n",
       "      <th>graphical_appearance_name</th>\n",
       "      <th>colour_group_name</th>\n",
       "      <th>perceived_colour_value_name</th>\n",
       "      <th>perceived_colour_master_name</th>\n",
       "      <th>index_group_name</th>\n",
       "      <th>garment_group_name</th>\n",
       "      <th>detail_desc</th>\n",
       "      <th>structured_desc</th>\n",
       "      <th>embedding</th>\n",
       "    </tr>\n",
       "  </thead>\n",
       "  <tbody>\n",
       "    <tr>\n",
       "      <th>0</th>\n",
       "      <td>108775015</td>\n",
       "      <td>Strap top</td>\n",
       "      <td>253</td>\n",
       "      <td>Vest top</td>\n",
       "      <td>Garment Upper body</td>\n",
       "      <td>Solid</td>\n",
       "      <td>Black</td>\n",
       "      <td>Dark</td>\n",
       "      <td>Black</td>\n",
       "      <td>Ladieswear</td>\n",
       "      <td>Jersey Basic</td>\n",
       "      <td>Jersey top with narrow shoulder straps.</td>\n",
       "      <td>Strap top, Vest top, Garment Upper body, Dark,...</td>\n",
       "      <td>[0.1574208, 1.0581949, 0.79257476, -0.23219684...</td>\n",
       "    </tr>\n",
       "    <tr>\n",
       "      <th>1</th>\n",
       "      <td>108775044</td>\n",
       "      <td>Strap top</td>\n",
       "      <td>253</td>\n",
       "      <td>Vest top</td>\n",
       "      <td>Garment Upper body</td>\n",
       "      <td>Solid</td>\n",
       "      <td>White</td>\n",
       "      <td>Light</td>\n",
       "      <td>White</td>\n",
       "      <td>Ladieswear</td>\n",
       "      <td>Jersey Basic</td>\n",
       "      <td>Jersey top with narrow shoulder straps.</td>\n",
       "      <td>Strap top, Vest top, Garment Upper body, Light...</td>\n",
       "      <td>[0.108548336, 0.95319206, 0.42330232, 0.125976...</td>\n",
       "    </tr>\n",
       "    <tr>\n",
       "      <th>2</th>\n",
       "      <td>108775051</td>\n",
       "      <td>Strap top (1)</td>\n",
       "      <td>253</td>\n",
       "      <td>Vest top</td>\n",
       "      <td>Garment Upper body</td>\n",
       "      <td>Stripe</td>\n",
       "      <td>Off White</td>\n",
       "      <td>Dusty Light</td>\n",
       "      <td>White</td>\n",
       "      <td>Ladieswear</td>\n",
       "      <td>Jersey Basic</td>\n",
       "      <td>Jersey top with narrow shoulder straps.</td>\n",
       "      <td>Strap top (1), Vest top, Garment Upper body, D...</td>\n",
       "      <td>[0.110866465, 1.2246294, 0.678072, 0.542589, 0...</td>\n",
       "    </tr>\n",
       "    <tr>\n",
       "      <th>3</th>\n",
       "      <td>110065001</td>\n",
       "      <td>OP T-shirt (Idro)</td>\n",
       "      <td>306</td>\n",
       "      <td>Bra</td>\n",
       "      <td>Underwear</td>\n",
       "      <td>Solid</td>\n",
       "      <td>Black</td>\n",
       "      <td>Dark</td>\n",
       "      <td>Black</td>\n",
       "      <td>Ladieswear</td>\n",
       "      <td>Under-, Nightwear</td>\n",
       "      <td>Microfibre T-shirt bra with underwired, moulde...</td>\n",
       "      <td>OP T-shirt (Idro), Bra, Underwear, Dark, Black</td>\n",
       "      <td>[0.8051066, 0.74185973, -0.34737697, -0.146875...</td>\n",
       "    </tr>\n",
       "    <tr>\n",
       "      <th>4</th>\n",
       "      <td>110065002</td>\n",
       "      <td>OP T-shirt (Idro)</td>\n",
       "      <td>306</td>\n",
       "      <td>Bra</td>\n",
       "      <td>Underwear</td>\n",
       "      <td>Solid</td>\n",
       "      <td>White</td>\n",
       "      <td>Light</td>\n",
       "      <td>White</td>\n",
       "      <td>Ladieswear</td>\n",
       "      <td>Under-, Nightwear</td>\n",
       "      <td>Microfibre T-shirt bra with underwired, moulde...</td>\n",
       "      <td>OP T-shirt (Idro), Bra, Underwear, Light, White</td>\n",
       "      <td>[0.7422705, 0.60685605, -0.8221559, 0.31363314...</td>\n",
       "    </tr>\n",
       "  </tbody>\n",
       "</table>\n",
       "</div>"
      ],
      "text/plain": [
       "   article_id          prod_name  product_type_no product_type_name  \\\n",
       "0   108775015          Strap top              253          Vest top   \n",
       "1   108775044          Strap top              253          Vest top   \n",
       "2   108775051      Strap top (1)              253          Vest top   \n",
       "3   110065001  OP T-shirt (Idro)              306               Bra   \n",
       "4   110065002  OP T-shirt (Idro)              306               Bra   \n",
       "\n",
       "   product_group_name graphical_appearance_name colour_group_name  \\\n",
       "0  Garment Upper body                     Solid             Black   \n",
       "1  Garment Upper body                     Solid             White   \n",
       "2  Garment Upper body                    Stripe         Off White   \n",
       "3           Underwear                     Solid             Black   \n",
       "4           Underwear                     Solid             White   \n",
       "\n",
       "  perceived_colour_value_name perceived_colour_master_name index_group_name  \\\n",
       "0                        Dark                        Black       Ladieswear   \n",
       "1                       Light                        White       Ladieswear   \n",
       "2                 Dusty Light                        White       Ladieswear   \n",
       "3                        Dark                        Black       Ladieswear   \n",
       "4                       Light                        White       Ladieswear   \n",
       "\n",
       "  garment_group_name                                        detail_desc  \\\n",
       "0       Jersey Basic            Jersey top with narrow shoulder straps.   \n",
       "1       Jersey Basic            Jersey top with narrow shoulder straps.   \n",
       "2       Jersey Basic            Jersey top with narrow shoulder straps.   \n",
       "3  Under-, Nightwear  Microfibre T-shirt bra with underwired, moulde...   \n",
       "4  Under-, Nightwear  Microfibre T-shirt bra with underwired, moulde...   \n",
       "\n",
       "                                     structured_desc  \\\n",
       "0  Strap top, Vest top, Garment Upper body, Dark,...   \n",
       "1  Strap top, Vest top, Garment Upper body, Light...   \n",
       "2  Strap top (1), Vest top, Garment Upper body, D...   \n",
       "3     OP T-shirt (Idro), Bra, Underwear, Dark, Black   \n",
       "4    OP T-shirt (Idro), Bra, Underwear, Light, White   \n",
       "\n",
       "                                           embedding  \n",
       "0  [0.1574208, 1.0581949, 0.79257476, -0.23219684...  \n",
       "1  [0.108548336, 0.95319206, 0.42330232, 0.125976...  \n",
       "2  [0.110866465, 1.2246294, 0.678072, 0.542589, 0...  \n",
       "3  [0.8051066, 0.74185973, -0.34737697, -0.146875...  \n",
       "4  [0.7422705, 0.60685605, -0.8221559, 0.31363314...  "
      ]
     },
     "execution_count": 143,
     "metadata": {},
     "output_type": "execute_result"
    }
   ],
   "source": [
    "df_i.head()"
   ]
  },
  {
   "cell_type": "markdown",
   "metadata": {},
   "source": [
    "# Spending Power of Customers"
   ]
  },
  {
   "cell_type": "code",
   "execution_count": 144,
   "metadata": {},
   "outputs": [],
   "source": [
    "# For Training Set\n",
    "df_c_train = pd.merge(df_t_train, df_c_train, on='customer_id')\n",
    "df_c_train = df_c_train.groupby(['customer_id'])['price'].sum().reset_index()\n",
    "df_c_train.rename(columns={'price': 'total_spent'}, inplace=True)\n",
    "\n",
    "# For Validation Set\n",
    "df_c_val = pd.merge(df_t_val, df_c_val, on='customer_id')\n",
    "df_c_val = df_c_val.groupby(['customer_id'])['price'].sum().reset_index()\n",
    "df_c_val.rename(columns={'price': 'total_spent'}, inplace=True)\n",
    "\n",
    "# For Testing Set\n",
    "df_c_test = pd.merge(df_t_test, df_c_test, on='customer_id')\n",
    "df_c_test = df_c_test.groupby(['customer_id'])['price'].sum().reset_index()\n",
    "df_c_test.rename(columns={'price': 'total_spent'}, inplace=True)"
   ]
  },
  {
   "cell_type": "code",
   "execution_count": 145,
   "metadata": {},
   "outputs": [],
   "source": [
    "quantiles_train = df_c_train['total_spent'].quantile([0, 0.25, 0.75, 1.0])\n",
    "quantiles_val = df_c_val['total_spent'].quantile([0, 0.25, 0.75, 1.0])\n",
    "quantiles_test = df_c_test['total_spent'].quantile([0, 0.25, 0.75, 1.0])\n",
    "\n",
    "def categorize_spending_power(amount, quantiles):\n",
    "    if amount <= quantiles[0.25]:\n",
    "        return '0'\n",
    "    elif amount <= quantiles[0.75]:\n",
    "        return '1'\n",
    "    else:\n",
    "        return '2'\n",
    "\n",
    "df_c_train['spending_power'] = df_c_train['total_spent'].apply(lambda x: categorize_spending_power(x, quantiles_train))\n",
    "df_c_val['spending_power'] = df_c_val['total_spent'].apply(lambda x: categorize_spending_power(x, quantiles_val))\n",
    "df_c_test['spending_power'] = df_c_test['total_spent'].apply(lambda x: categorize_spending_power(x, quantiles_test))"
   ]
  },
  {
   "cell_type": "code",
   "execution_count": 146,
   "metadata": {},
   "outputs": [
    {
     "name": "stdout",
     "output_type": "stream",
     "text": [
      "spending_power\n",
      "1    148271\n",
      "0     74241\n",
      "2     74171\n",
      "Name: count, dtype: int64\n",
      "spending_power\n",
      "1    108324\n",
      "0     54783\n",
      "2     54369\n",
      "Name: count, dtype: int64\n",
      "spending_power\n",
      "1    234880\n",
      "0    117452\n",
      "2    117441\n",
      "Name: count, dtype: int64\n"
     ]
    }
   ],
   "source": [
    "print(df_c_test['spending_power'].value_counts())\n",
    "print(df_c_val['spending_power'].value_counts())\n",
    "print(df_c_train['spending_power'].value_counts())"
   ]
  },
  {
   "cell_type": "markdown",
   "metadata": {},
   "source": [
    "# Preferred Products"
   ]
  },
  {
   "cell_type": "code",
   "execution_count": 147,
   "metadata": {},
   "outputs": [
    {
     "name": "stderr",
     "output_type": "stream",
     "text": [
      "/var/folders/x7/3z2kdq9n7z53k1nm0tq2fyw00000gn/T/ipykernel_81563/1403588831.py:3: FutureWarning: The provided callable <built-in function max> is currently using SeriesGroupBy.max. In a future version of pandas, the provided callable will be used directly. To keep current behavior pass the string \"max\" instead.\n",
      "  idx = grouped_df.groupby(['customer_id'])['purchase_count'].transform(max) == grouped_df['purchase_count']\n"
     ]
    }
   ],
   "source": [
    "merged_df = pd.merge(df_t_train, df_i, on='article_id', how='left')\n",
    "grouped_df = merged_df.groupby(['customer_id', 'product_group_name']).size().reset_index(name='purchase_count')\n",
    "idx = grouped_df.groupby(['customer_id'])['purchase_count'].transform(max) == grouped_df['purchase_count']\n",
    "preferred_products = grouped_df[idx][['customer_id', 'product_group_name']]\n",
    "df_c_train = pd.merge(df_c_train, preferred_products, on='customer_id', how='left')\n",
    "df_c_train.rename(columns={'product_group_name': 'preferred_prod'}, inplace=True)"
   ]
  },
  {
   "cell_type": "code",
   "execution_count": 148,
   "metadata": {},
   "outputs": [
    {
     "name": "stderr",
     "output_type": "stream",
     "text": [
      "/var/folders/x7/3z2kdq9n7z53k1nm0tq2fyw00000gn/T/ipykernel_81563/3675496146.py:3: FutureWarning: The provided callable <built-in function max> is currently using SeriesGroupBy.max. In a future version of pandas, the provided callable will be used directly. To keep current behavior pass the string \"max\" instead.\n",
      "  idx = grouped_df.groupby(['customer_id'])['purchase_count'].transform(max) == grouped_df['purchase_count']\n"
     ]
    }
   ],
   "source": [
    "merged_df = pd.merge(df_t_val, df_i, on='article_id', how='left')\n",
    "grouped_df = merged_df.groupby(['customer_id', 'product_group_name']).size().reset_index(name='purchase_count')\n",
    "idx = grouped_df.groupby(['customer_id'])['purchase_count'].transform(max) == grouped_df['purchase_count']\n",
    "preferred_products = grouped_df[idx][['customer_id', 'product_group_name']]\n",
    "df_c_val = pd.merge(df_c_val, preferred_products, on='customer_id', how='left')\n",
    "df_c_val.rename(columns={'product_group_name': 'preferred_prod'}, inplace=True)"
   ]
  },
  {
   "cell_type": "code",
   "execution_count": 149,
   "metadata": {},
   "outputs": [
    {
     "name": "stderr",
     "output_type": "stream",
     "text": [
      "/var/folders/x7/3z2kdq9n7z53k1nm0tq2fyw00000gn/T/ipykernel_81563/194337544.py:3: FutureWarning: The provided callable <built-in function max> is currently using SeriesGroupBy.max. In a future version of pandas, the provided callable will be used directly. To keep current behavior pass the string \"max\" instead.\n",
      "  idx = grouped_df.groupby(['customer_id'])['purchase_count'].transform(max) == grouped_df['purchase_count']\n"
     ]
    }
   ],
   "source": [
    "merged_df = pd.merge(df_t_test, df_i, on='article_id', how='left')\n",
    "grouped_df = merged_df.groupby(['customer_id', 'product_group_name']).size().reset_index(name='purchase_count')\n",
    "idx = grouped_df.groupby(['customer_id'])['purchase_count'].transform(max) == grouped_df['purchase_count']\n",
    "preferred_products = grouped_df[idx][['customer_id', 'product_group_name']]\n",
    "df_c_test = pd.merge(df_c_test, preferred_products, on='customer_id', how='left')\n",
    "df_c_test.rename(columns={'product_group_name': 'preferred_prod'}, inplace=True)"
   ]
  },
  {
   "cell_type": "markdown",
   "metadata": {},
   "source": [
    "# Preferred Color"
   ]
  },
  {
   "cell_type": "code",
   "execution_count": 150,
   "metadata": {},
   "outputs": [
    {
     "name": "stderr",
     "output_type": "stream",
     "text": [
      "/var/folders/x7/3z2kdq9n7z53k1nm0tq2fyw00000gn/T/ipykernel_81563/2295903917.py:3: FutureWarning: The provided callable <built-in function max> is currently using SeriesGroupBy.max. In a future version of pandas, the provided callable will be used directly. To keep current behavior pass the string \"max\" instead.\n",
      "  idx = grouped_df.groupby(['customer_id'])['purchase_count'].transform(max) == grouped_df['purchase_count']\n"
     ]
    }
   ],
   "source": [
    "merged_df = pd.merge(df_t_train, df_i, on='article_id', how='left')\n",
    "grouped_df = merged_df.groupby(['customer_id', 'colour_group_name']).size().reset_index(name='purchase_count')\n",
    "idx = grouped_df.groupby(['customer_id'])['purchase_count'].transform(max) == grouped_df['purchase_count']\n",
    "preferred_products = grouped_df[idx][['customer_id', 'colour_group_name']]\n",
    "df_c_train = pd.merge(df_c_train, preferred_products, on='customer_id', how='left')\n",
    "df_c_train.rename(columns={'colour_group_name': 'preferred_color'}, inplace=True)"
   ]
  },
  {
   "cell_type": "code",
   "execution_count": 151,
   "metadata": {},
   "outputs": [
    {
     "name": "stderr",
     "output_type": "stream",
     "text": [
      "/var/folders/x7/3z2kdq9n7z53k1nm0tq2fyw00000gn/T/ipykernel_81563/1315010768.py:3: FutureWarning: The provided callable <built-in function max> is currently using SeriesGroupBy.max. In a future version of pandas, the provided callable will be used directly. To keep current behavior pass the string \"max\" instead.\n",
      "  idx = grouped_df.groupby(['customer_id'])['purchase_count'].transform(max) == grouped_df['purchase_count']\n"
     ]
    }
   ],
   "source": [
    "merged_df = pd.merge(df_t_val, df_i, on='article_id', how='left')\n",
    "grouped_df = merged_df.groupby(['customer_id', 'colour_group_name']).size().reset_index(name='purchase_count')\n",
    "idx = grouped_df.groupby(['customer_id'])['purchase_count'].transform(max) == grouped_df['purchase_count']\n",
    "preferred_products = grouped_df[idx][['customer_id', 'colour_group_name']]\n",
    "df_c_val = pd.merge(df_c_val, preferred_products, on='customer_id', how='left')\n",
    "df_c_val.rename(columns={'colour_group_name': 'preferred_color'}, inplace=True)"
   ]
  },
  {
   "cell_type": "code",
   "execution_count": 152,
   "metadata": {},
   "outputs": [
    {
     "name": "stderr",
     "output_type": "stream",
     "text": [
      "/var/folders/x7/3z2kdq9n7z53k1nm0tq2fyw00000gn/T/ipykernel_81563/3514286730.py:3: FutureWarning: The provided callable <built-in function max> is currently using SeriesGroupBy.max. In a future version of pandas, the provided callable will be used directly. To keep current behavior pass the string \"max\" instead.\n",
      "  idx = grouped_df.groupby(['customer_id'])['purchase_count'].transform(max) == grouped_df['purchase_count']\n"
     ]
    }
   ],
   "source": [
    "merged_df = pd.merge(df_t_test, df_i, on='article_id', how='left')\n",
    "grouped_df = merged_df.groupby(['customer_id', 'colour_group_name']).size().reset_index(name='purchase_count')\n",
    "idx = grouped_df.groupby(['customer_id'])['purchase_count'].transform(max) == grouped_df['purchase_count']\n",
    "preferred_products = grouped_df[idx][['customer_id', 'colour_group_name']]\n",
    "df_c_test = pd.merge(df_c_test, preferred_products, on='customer_id', how='left')\n",
    "df_c_test.rename(columns={'colour_group_name': 'preferred_color'}, inplace=True)"
   ]
  },
  {
   "cell_type": "markdown",
   "metadata": {},
   "source": [
    "# Preferred Embedding\n",
    "- uses the features generated via Word2Vec and its associated column \"embedding\" to merge df_c_** and df_i"
   ]
  },
  {
   "cell_type": "markdown",
   "metadata": {},
   "source": [
    "# Average Timelag between Purchase"
   ]
  },
  {
   "cell_type": "code",
   "execution_count": null,
   "metadata": {},
   "outputs": [],
   "source": [
    "df_t_train.sort_values(by=['customer_id', 't_dat'], inplace=True)\n",
    "df_t_train['time_diff'] = df_t_train.groupby('customer_id')['t_dat'].diff()\n",
    "avg_time_diff = df_t_train.groupby('customer_id')['time_diff'].mean().reset_index()\n",
    "avg_time_diff.rename(columns={'time_diff': 'avg_time_diff_btw_purchase'}, inplace=True)\n",
    "df_c_train = pd.merge(df_c_train, avg_time_diff, on='customer_id', how='left')\n",
    "df_c_train[\"hours_between_purchases\"] = df_c_train[\"avg_time_diff_btw_purchase\"].dt.total_seconds() / 3600.0"
   ]
  },
  {
   "cell_type": "code",
   "execution_count": 72,
   "metadata": {},
   "outputs": [],
   "source": [
    "df_t_val.sort_values(by=['customer_id', 't_dat'], inplace=True)\n",
    "df_t_val['time_diff'] = df_t_val.groupby('customer_id')['t_dat'].diff()\n",
    "avg_time_diff = df_t_val.groupby('customer_id')['time_diff'].mean().reset_index()\n",
    "avg_time_diff.rename(columns={'time_diff': 'avg_time_diff_btw_purchase'}, inplace=True)\n",
    "df_c_val = pd.merge(df_c_val, avg_time_diff, on='customer_id', how='left')\n",
    "df_c_val[\"hours_between_purchases\"] = df_c_val[\"avg_time_diff_btw_purchase\"].dt.total_seconds() / 3600.0"
   ]
  },
  {
   "cell_type": "code",
   "execution_count": 73,
   "metadata": {},
   "outputs": [],
   "source": [
    "df_t_test.sort_values(by=['customer_id', 't_dat'], inplace=True)\n",
    "df_t_test['time_diff'] = df_t_test.groupby('customer_id')['t_dat'].diff()\n",
    "avg_time_diff = df_t_test.groupby('customer_id')['time_diff'].mean().reset_index()\n",
    "avg_time_diff.rename(columns={'time_diff': 'avg_time_diff_btw_purchase'}, inplace=True)\n",
    "df_c_test = pd.merge(df_c_test, avg_time_diff, on='customer_id', how='left')\n",
    "df_c_test[\"hours_between_purchases\"] = df_c_test[\"avg_time_diff_btw_purchase\"].dt.total_seconds() / 3600.0"
   ]
  },
  {
   "cell_type": "code",
   "execution_count": 157,
   "metadata": {},
   "outputs": [
    {
     "data": {
      "text/html": [
       "<div>\n",
       "<style scoped>\n",
       "    .dataframe tbody tr th:only-of-type {\n",
       "        vertical-align: middle;\n",
       "    }\n",
       "\n",
       "    .dataframe tbody tr th {\n",
       "        vertical-align: top;\n",
       "    }\n",
       "\n",
       "    .dataframe thead th {\n",
       "        text-align: right;\n",
       "    }\n",
       "</style>\n",
       "<table border=\"1\" class=\"dataframe\">\n",
       "  <thead>\n",
       "    <tr style=\"text-align: right;\">\n",
       "      <th></th>\n",
       "      <th>customer_id</th>\n",
       "      <th>total_spent</th>\n",
       "      <th>spending_power</th>\n",
       "      <th>preferred_prod</th>\n",
       "      <th>preferred_color</th>\n",
       "      <th>avg_time_diff_btw_purchase</th>\n",
       "      <th>hours_between_purchases</th>\n",
       "    </tr>\n",
       "  </thead>\n",
       "  <tbody>\n",
       "    <tr>\n",
       "      <th>0</th>\n",
       "      <td>00000dbacae5abe5e23885899a1fa44253a17956c6d1c3...</td>\n",
       "      <td>0.111814</td>\n",
       "      <td>1</td>\n",
       "      <td>Garment Upper body</td>\n",
       "      <td>Black</td>\n",
       "      <td>11 days 12:00:00</td>\n",
       "      <td>276.000000</td>\n",
       "    </tr>\n",
       "    <tr>\n",
       "      <th>1</th>\n",
       "      <td>0000423b00ade91418cceaf3b26c6af3dd342b51fd051e...</td>\n",
       "      <td>0.782712</td>\n",
       "      <td>2</td>\n",
       "      <td>Garment Upper body</td>\n",
       "      <td>Black</td>\n",
       "      <td>3 days 10:06:18.947368421</td>\n",
       "      <td>82.105263</td>\n",
       "    </tr>\n",
       "    <tr>\n",
       "      <th>2</th>\n",
       "      <td>00005ca1c9ed5f5146b52ac8639a40ca9d57aeff4d1bd2...</td>\n",
       "      <td>0.060983</td>\n",
       "      <td>1</td>\n",
       "      <td>Underwear</td>\n",
       "      <td>Black</td>\n",
       "      <td>0 days 00:00:00</td>\n",
       "      <td>0.000000</td>\n",
       "    </tr>\n",
       "    <tr>\n",
       "      <th>3</th>\n",
       "      <td>0000757967448a6cb83efb3ea7a3fb9d418ac7adf2379d...</td>\n",
       "      <td>0.042339</td>\n",
       "      <td>0</td>\n",
       "      <td>Swimwear</td>\n",
       "      <td>Dark Green</td>\n",
       "      <td>0 days 00:00:00</td>\n",
       "      <td>0.000000</td>\n",
       "    </tr>\n",
       "    <tr>\n",
       "      <th>4</th>\n",
       "      <td>00009d946eec3ea54add5ba56d5210ea898def4b46c685...</td>\n",
       "      <td>0.772729</td>\n",
       "      <td>2</td>\n",
       "      <td>Garment Upper body</td>\n",
       "      <td>Black</td>\n",
       "      <td>1 days 21:31:02.068965517</td>\n",
       "      <td>45.517241</td>\n",
       "    </tr>\n",
       "    <tr>\n",
       "      <th>...</th>\n",
       "      <td>...</td>\n",
       "      <td>...</td>\n",
       "      <td>...</td>\n",
       "      <td>...</td>\n",
       "      <td>...</td>\n",
       "      <td>...</td>\n",
       "      <td>...</td>\n",
       "    </tr>\n",
       "    <tr>\n",
       "      <th>858859</th>\n",
       "      <td>ffff61677073258d461e043cc9ed4ed97be5617a920640...</td>\n",
       "      <td>0.088051</td>\n",
       "      <td>1</td>\n",
       "      <td>Garment Upper body</td>\n",
       "      <td>Grey</td>\n",
       "      <td>2 days 06:00:00</td>\n",
       "      <td>54.000000</td>\n",
       "    </tr>\n",
       "    <tr>\n",
       "      <th>858860</th>\n",
       "      <td>ffff61677073258d461e043cc9ed4ed97be5617a920640...</td>\n",
       "      <td>0.088051</td>\n",
       "      <td>1</td>\n",
       "      <td>Garment Upper body</td>\n",
       "      <td>Light Blue</td>\n",
       "      <td>2 days 06:00:00</td>\n",
       "      <td>54.000000</td>\n",
       "    </tr>\n",
       "    <tr>\n",
       "      <th>858861</th>\n",
       "      <td>ffff61677073258d461e043cc9ed4ed97be5617a920640...</td>\n",
       "      <td>0.088051</td>\n",
       "      <td>1</td>\n",
       "      <td>Garment Upper body</td>\n",
       "      <td>Off White</td>\n",
       "      <td>2 days 06:00:00</td>\n",
       "      <td>54.000000</td>\n",
       "    </tr>\n",
       "    <tr>\n",
       "      <th>858862</th>\n",
       "      <td>ffffbbf78b6eaac697a8a5dfbfd2bfa8113ee5b403e474...</td>\n",
       "      <td>0.657237</td>\n",
       "      <td>2</td>\n",
       "      <td>Swimwear</td>\n",
       "      <td>Dark Blue</td>\n",
       "      <td>2 days 09:49:05.454545454</td>\n",
       "      <td>57.818182</td>\n",
       "    </tr>\n",
       "    <tr>\n",
       "      <th>858863</th>\n",
       "      <td>ffffcd5046a6143d29a04fb8c424ce494a76e5cdf4fab5...</td>\n",
       "      <td>0.289644</td>\n",
       "      <td>2</td>\n",
       "      <td>Garment Upper body</td>\n",
       "      <td>White</td>\n",
       "      <td>0 days 00:00:00</td>\n",
       "      <td>0.000000</td>\n",
       "    </tr>\n",
       "  </tbody>\n",
       "</table>\n",
       "<p>858864 rows × 7 columns</p>\n",
       "</div>"
      ],
      "text/plain": [
       "                                              customer_id  total_spent  \\\n",
       "0       00000dbacae5abe5e23885899a1fa44253a17956c6d1c3...     0.111814   \n",
       "1       0000423b00ade91418cceaf3b26c6af3dd342b51fd051e...     0.782712   \n",
       "2       00005ca1c9ed5f5146b52ac8639a40ca9d57aeff4d1bd2...     0.060983   \n",
       "3       0000757967448a6cb83efb3ea7a3fb9d418ac7adf2379d...     0.042339   \n",
       "4       00009d946eec3ea54add5ba56d5210ea898def4b46c685...     0.772729   \n",
       "...                                                   ...          ...   \n",
       "858859  ffff61677073258d461e043cc9ed4ed97be5617a920640...     0.088051   \n",
       "858860  ffff61677073258d461e043cc9ed4ed97be5617a920640...     0.088051   \n",
       "858861  ffff61677073258d461e043cc9ed4ed97be5617a920640...     0.088051   \n",
       "858862  ffffbbf78b6eaac697a8a5dfbfd2bfa8113ee5b403e474...     0.657237   \n",
       "858863  ffffcd5046a6143d29a04fb8c424ce494a76e5cdf4fab5...     0.289644   \n",
       "\n",
       "       spending_power      preferred_prod preferred_color  \\\n",
       "0                   1  Garment Upper body           Black   \n",
       "1                   2  Garment Upper body           Black   \n",
       "2                   1           Underwear           Black   \n",
       "3                   0            Swimwear      Dark Green   \n",
       "4                   2  Garment Upper body           Black   \n",
       "...               ...                 ...             ...   \n",
       "858859              1  Garment Upper body            Grey   \n",
       "858860              1  Garment Upper body      Light Blue   \n",
       "858861              1  Garment Upper body       Off White   \n",
       "858862              2            Swimwear       Dark Blue   \n",
       "858863              2  Garment Upper body           White   \n",
       "\n",
       "       avg_time_diff_btw_purchase  hours_between_purchases  \n",
       "0                11 days 12:00:00               276.000000  \n",
       "1       3 days 10:06:18.947368421                82.105263  \n",
       "2                 0 days 00:00:00                 0.000000  \n",
       "3                 0 days 00:00:00                 0.000000  \n",
       "4       1 days 21:31:02.068965517                45.517241  \n",
       "...                           ...                      ...  \n",
       "858859            2 days 06:00:00                54.000000  \n",
       "858860            2 days 06:00:00                54.000000  \n",
       "858861            2 days 06:00:00                54.000000  \n",
       "858862  2 days 09:49:05.454545454                57.818182  \n",
       "858863            0 days 00:00:00                 0.000000  \n",
       "\n",
       "[858864 rows x 7 columns]"
      ]
     },
     "execution_count": 157,
     "metadata": {},
     "output_type": "execute_result"
    }
   ],
   "source": [
    "df_c_train"
   ]
  },
  {
   "cell_type": "code",
   "execution_count": 74,
   "metadata": {},
   "outputs": [],
   "source": [
    "df_t_train.to_pickle(os.path.join(os.getcwd(),'data','df_t_train_fe.pkl'))\n",
    "df_t_val.to_pickle(os.path.join(os.getcwd(),'data', 'df_t_val_fe.pkl'))\n",
    "df_t_test.to_pickle(os.path.join(os.getcwd(),'data', 'df_t_test_fe.pkl'))\n",
    "df_c_train.to_pickle(os.path.join(os.getcwd(),'data', 'df_c_train_fe.pkl'))\n",
    "df_c_val.to_pickle(os.path.join(os.getcwd(),'data', 'df_c_val_fe.pkl'))\n",
    "df_c_test.to_pickle(os.path.join(os.getcwd(),'data', 'df_c_test_fe.pkl'))\n",
    "df_i.to_pickle(os.path.join(os.getcwd(),'data', 'df_i_fe.pkl'))"
   ]
  },
  {
   "cell_type": "code",
   "execution_count": null,
   "metadata": {},
   "outputs": [],
   "source": []
  }
 ],
 "metadata": {
  "kernelspec": {
   "display_name": "testing",
   "language": "python",
   "name": "python3"
  },
  "language_info": {
   "codemirror_mode": {
    "name": "ipython",
    "version": 3
   },
   "file_extension": ".py",
   "mimetype": "text/x-python",
   "name": "python",
   "nbconvert_exporter": "python",
   "pygments_lexer": "ipython3",
   "version": "3.9.18"
  },
  "metadata": {
   "language_info": {
    "name": "python"
   },
   "orig_nbformat": 4
  },
  "nbformat": 4,
  "nbformat_minor": 2
 },
 "nbformat": 4,
 "nbformat_minor": 2
}
